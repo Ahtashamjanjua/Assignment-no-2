{
 "cells": [
  {
   "cell_type": "code",
   "execution_count": 35,
   "metadata": {},
   "outputs": [
    {
     "name": "stdout",
     "output_type": "stream",
     "text": [
      "Enter numbers of English :95\n",
      "Enter numbers of Math :95\n",
      "Enter numbers of Physics :95\n",
      "Enter numbers of Chemistry :95\n",
      "Enter numbers of Islamiat :95\n",
      "Enter numbers of Urdu 90\n",
      "The percentage is = 94.16666666666667\n",
      "your grade is A+\n"
     ]
    }
   ],
   "source": [
    "# Task 1\n",
    "\n",
    "subject_1=int(input(\"Enter numbers of English :\"))\n",
    "subject_2=int(input(\"Enter numbers of Math :\"))\n",
    "subject_3=int(input(\"Enter numbers of Physics :\"))\n",
    "subject_4=int(input(\"Enter numbers of Chemistry :\"))\n",
    "subject_5=int(input(\"Enter numbers of Islamiat :\"))\n",
    "subject_6=int(input(\"Enter numbers of Urdu \"))\n",
    "total_marks=600\n",
    "if (subject_1 <=100 and subject_2 <=100 and subject_3 <=100 and subject_4 <=100 and subject_5 <=100 and subject_6 <=100) :\n",
    "    Obtained_marks=subject_1+subject_2+subject_3+subject_4+subject_5+subject_6\n",
    "    per=(Obtained_marks/total_marks)*100\n",
    "    print(\"The percentage is =\",per)\n",
    "    if per>=80 and per<=100:\n",
    "        print(\"your grade is A+\")\n",
    "    elif (per>=70 and per<80):\n",
    "        print(\"your grade is A\")\n",
    "    elif (per>=60 and per<70):\n",
    "        print(\"your grade is B\")\n",
    "    elif (per>=50 and per<60):\n",
    "        print(\"your grade is C\")\n",
    "    elif (per>=0 and per<50):\n",
    "        print(\"you are FAIL\")\n",
    "else :\n",
    "     print(\"invalid\")"
   ]
  },
  {
   "cell_type": "code",
   "execution_count": 36,
   "metadata": {},
   "outputs": [
    {
     "name": "stdout",
     "output_type": "stream",
     "text": [
      "ENTER THE NUMBER :22\n",
      "THE NUMBER 22 IS EVEN\n"
     ]
    }
   ],
   "source": [
    "#Task 2\n",
    "a=int(input(\"ENTER THE NUMBER :\"))\n",
    "if a%2==0:\n",
    "    print(\"THE NUMBER\",a,\"IS EVEN\")\n",
    "else:\n",
    "    print(\"THE NUMBER\",a,\"IS ODD\") "
   ]
  },
  {
   "cell_type": "code",
   "execution_count": 37,
   "metadata": {},
   "outputs": [
    {
     "name": "stdout",
     "output_type": "stream",
     "text": [
      "the length is :  12\n"
     ]
    }
   ],
   "source": [
    "#Task 3\n",
    "arr=[1,1,2,3,5,8,13,21,34,55,89,95]\n",
    "print(\"the length is : \",len(arr))"
   ]
  },
  {
   "cell_type": "code",
   "execution_count": 38,
   "metadata": {},
   "outputs": [
    {
     "name": "stdout",
     "output_type": "stream",
     "text": [
      "190\n"
     ]
    }
   ],
   "source": [
    "#task 4\n",
    "arr=[1,1,2,3,5,8,13,21,34,55,89,95]\n",
    "for i in range(0,len(arr)):\n",
    "    sum=arr[i]+arr[i]\n",
    "print(sum)"
   ]
  },
  {
   "cell_type": "code",
   "execution_count": 39,
   "metadata": {},
   "outputs": [
    {
     "name": "stdout",
     "output_type": "stream",
     "text": [
      "102\n"
     ]
    }
   ],
   "source": [
    "#Task5\n",
    "arr=[1,1,2,3,5,8,13,21,34,55,89,95,102]\n",
    "for i in range(0,len(arr)):\n",
    "    if arr[i]>arr[i-1]:\n",
    "        arr[i] \n",
    "print(arr[i])"
   ]
  },
  {
   "cell_type": "code",
   "execution_count": 43,
   "metadata": {},
   "outputs": [
    {
     "name": "stdout",
     "output_type": "stream",
     "text": [
      "1\n",
      "1\n",
      "hello decoder\n"
     ]
    }
   ],
   "source": [
    "#task 6\n",
    "a=[1,1,2,3,5,8,13,21,34,55,89]\n",
    "for i in range(10):\n",
    "    if a[i]<5:\n",
    "        print(a[i])\n",
    "print(\"hello decoder\")"
   ]
  }
 ],
 "metadata": {
  "kernelspec": {
   "display_name": "Python 3",
   "language": "python",
   "name": "python3"
  },
  "language_info": {
   "codemirror_mode": {
    "name": "ipython",
    "version": 3
   },
   "file_extension": ".py",
   "mimetype": "text/x-python",
   "name": "python",
   "nbconvert_exporter": "python",
   "pygments_lexer": "ipython3",
   "version": "3.7.4"
  }
 },
 "nbformat": 4,
 "nbformat_minor": 2
}
